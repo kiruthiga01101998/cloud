from newspaper import Article 
from IPython.display import Markdown, display
from wordcloud import WordCloud, STOPWORDS,ImageColorGenerator 
import matplotlib.pyplot as plt 
import pandas as pd 
import numpy as np 
def printmd(string):
    display(Markdown(string))
    
url = "https://aajtak.intoday.in/story/lok-sabha-elections-2019-congress-manifesto-big-points-on-jammu-kashmir-and-pakistan-rahul-gandhi-1-1072579.html"
toi_article = Article(url, language="hi")  
  
toi_article.download() 
  
toi_article.parse() 
  
toi_article.nlp() 
  
printmd("Article's Title:") 
print(toi_article.title) 
print("\n") 
  
printmd("Article's Text:") 
print(toi_article.text) 
print("\n") 
  
printmd("Article's Summary:") 
print(toi_article.summary) 
print("\n") 
  
printmd("Article's Keywords:") 

print(toi_article.keywords) 

def printmd(string):
    display(Markdown(string))
    
url = "https://www.bbc.com/zhongwen/simp/chinese-news-50023162"
toi_articles = Article(url, language="zh")  
  
toi_articles.download() 
  
toi_articles.parse() 
  
toi_articles.nlp() 
  
printmd("Article's Title:") 
print(toi_articles.title) 
print("\n") 
  
printmd("Article's Text:") 
print(toi_articles.text) 
print("\n") 
  
printmd("Article's Summary:") 
print(toi_articles.summary) 
print("\n") 
  
printmd("Article's Keywords:") 

print(toi_articles.keywords) 

def printmd(string):
    display(Markdown(string))
    
url = "https://www.lefigaro.fr/actualite-france/info-le-figaro-l-homme-arrete-a-glasgow-n-est-pas-xavier-dupont-de-ligonnes-20191012"
toi_articless = Article(url, language="fr")  
  
toi_articless.download() 
  
toi_articless.parse() 
  
toi_articless.nlp() 
  
printmd("Article's Title:") 
print(toi_articless.title) 
print("\n") 
  
printmd("Article's Text:") 
print(toi_articless.text) 
print("\n") 
  
printmd("Article's Summary:") 
print(toi_articless.summary) 
print("\n") 
  
printmd("Article's Keywords:") 

print(toi_articless.keywords) 

def printmd(string):
    display(Markdown(string))
    
url ="https://www.bbc.com/japanese/50010815" 
toi_articlss = Article(url, language="ja")  
  
toi_articlss.download() 
  
toi_articlss.parse() 
  
toi_articlss.nlp() 
  
printmd("Article's Title:") 
print(toi_articlss.title) 
print("\n") 
  
printmd("Article's Text:") 
print(toi_articlss.text) 
print("\n") 
  
printmd("Article's Summary:") 
print(toi_articlss.summary) 
print("\n") 
  
printmd("Article's Keywords:") 

print(toi_articlss.keywords) 




  


  
